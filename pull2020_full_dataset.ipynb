{
 "cells": [
  {
   "cell_type": "code",
   "execution_count": 57,
   "metadata": {},
   "outputs": [],
   "source": [
    "import pandas as pd\n",
    "import requests\n",
    "import json\n",
    "\n",
    "key = '2988f01f5e86175bda8beae2b5035e1ccef2d052'\n",
    "\n",
    "url = f\"https://api.census.gov/data/2020/dec/responserate?get=GEO_ID,CRRALL,CRRINT,DAVG,DINTAVG,DRRALL,DRRINT&key={key}&for=state:*\"\n",
    "JSONContent = requests.get(url).json()\n",
    "temp = pd.DataFrame(JSONContent)\n",
    "temp.columns = temp.iloc[0]\n",
    "temp = temp.iloc[1:,-1]\n",
    "states = [int(i) for i in temp]\n",
    "\n",
    "labels = pd.DataFrame(JSONContent).iloc[0,:-1]"
   ]
  },
  {
   "cell_type": "code",
   "execution_count": 58,
   "metadata": {},
   "outputs": [],
   "source": [
    "columns=labels\n",
    "\n",
    "tract_responses = pd.DataFrame(columns=columns)\n",
    "\n",
    "for i in states:\n",
    "    if i < 10:\n",
    "        url = f\"https://api.census.gov/data/2020/dec/responserate?get=GEO_ID,CRRALL,CRRINT,DAVG,DINTAVG,DRRALL,DRRINT&key={key}&for=tract:*&in=state:0\"\\\n",
    "        + str(i)\n",
    "    else:\n",
    "        url = f\"https://api.census.gov/data/2020/dec/responserate?get=GEO_ID,CRRALL,CRRINT,DAVG,DINTAVG,DRRALL,DRRINT&key={key}&for=tract:*&in=state:\"\\\n",
    "        + str(i)\n",
    "    JSONContent = requests.get(url).json()\n",
    "    temp = pd.DataFrame(JSONContent)\n",
    "    temp.columns = temp.iloc[0]\n",
    "    temp = temp.iloc[1:,0:-3]\n",
    "    tract_responses = pd.concat([tract_responses,temp],sort=True)"
   ]
  },
  {
   "cell_type": "code",
   "execution_count": 59,
   "metadata": {},
   "outputs": [],
   "source": [
    "county_responses = pd.DataFrame(columns=columns)\n",
    "\n",
    "for i in states:\n",
    "    if i < 10:\n",
    "        url = f\"https://api.census.gov/data/2020/dec/responserate?get=GEO_ID,CRRALL,CRRINT,DAVG,DINTAVG,DRRALL,DRRINT&key={key}&key={key}&for=county:*&in=state:0\"\\\n",
    "        + str(i)\n",
    "    else:\n",
    "        url = f\"https://api.census.gov/data/2020/dec/responserate?get=GEO_ID,CRRALL,CRRINT,DAVG,DINTAVG,DRRALL,DRRINT&key={key}&for=county:*&in=state:\"\\\n",
    "        + str(i)\n",
    "    JSONContent = requests.get(url).json()\n",
    "    temp = pd.DataFrame(JSONContent)\n",
    "    temp.columns = temp.iloc[0]\n",
    "    temp = temp.iloc[1:,0:-2]\n",
    "    county_responses = pd.concat([county_responses,temp],sort=True)"
   ]
  },
  {
   "cell_type": "code",
   "execution_count": 60,
   "metadata": {},
   "outputs": [],
   "source": [
    "url = f\"https://api.census.gov/data/2020/dec/responserate?get=GEO_ID,CRRALL,CRRINT,DAVG,DINTAVG,DRRALL,DRRINT&key={key}&for=state:*\"\n",
    "JSONContent = requests.get(url).json()\n",
    "state_responses = pd.DataFrame(JSONContent)\n",
    "state_responses.columns = state_responses.iloc[0]\n",
    "state_responses = state_responses.iloc[1:,0:-1]"
   ]
  },
  {
   "cell_type": "code",
   "execution_count": 61,
   "metadata": {},
   "outputs": [],
   "source": [
    "tract_responses.to_csv('tract_responses_2020.csv')\n",
    "state_responses.to_csv('state_responses_2020.csv')\n",
    "county_responses.to_csv('county_responses_2020.csv')"
   ]
  }
 ],
 "metadata": {
  "kernelspec": {
   "display_name": "Python 3",
   "language": "python",
   "name": "python3"
  },
  "language_info": {
   "codemirror_mode": {
    "name": "ipython",
    "version": 3
   },
   "file_extension": ".py",
   "mimetype": "text/x-python",
   "name": "python",
   "nbconvert_exporter": "python",
   "pygments_lexer": "ipython3",
   "version": "3.7.3"
  }
 },
 "nbformat": 4,
 "nbformat_minor": 2
}
