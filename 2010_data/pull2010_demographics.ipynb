{
 "cells": [
  {
   "cell_type": "code",
   "execution_count": 76,
   "metadata": {},
   "outputs": [],
   "source": [
    "import pandas as pd\n",
    "import requests\n",
    "import json\n",
    "import math as m\n",
    "\n",
    "key = '2988f01f5e86175bda8beae2b5035e1ccef2d052'\n",
    "\n",
    "url = f\"https://api.census.gov/data/2010/dec/responserate?get=GEO_ID,FSRR2010&key={key}&for=state:*\"\n",
    "\n",
    "JSONContent = requests.get(url).json()\n",
    "\n",
    "states = pd.DataFrame(JSONContent)\n",
    "states.columns = states.iloc[0]\n",
    "states = states.iloc[1:,2]\n",
    "states = [int(i) for i in states]\n",
    "states = sorted(states)"
   ]
  },
  {
   "cell_type": "code",
   "execution_count": 77,
   "metadata": {},
   "outputs": [],
   "source": [
    "columns=['GEO_ID','FSRR2010']\n",
    "\n",
    "responses = pd.DataFrame(columns=columns)\n",
    "\n",
    "for i in states:\n",
    "    if i < 10:\n",
    "        url = f\"https://api.census.gov/data/2010/dec/responserate?get=GEO_ID,FSRR2010&key={key}&for=tract:*&in=state:0\"\\\n",
    "        + str(i)\n",
    "    else:\n",
    "        url = f\"https://api.census.gov/data/2010/dec/responserate?get=GEO_ID,FSRR2010&key={key}&for=tract:*&in=state:\"\\\n",
    "        + str(i)\n",
    "            \n",
    "    JSONContent = requests.get(url).json()        \n",
    "    temp = pd.DataFrame(JSONContent)\n",
    "    temp = temp.iloc[1:,[0,1]]\n",
    "    temp.columns = columns\n",
    "    responses = pd.concat([responses,temp])"
   ]
  },
  {
   "cell_type": "code",
   "execution_count": 78,
   "metadata": {},
   "outputs": [],
   "source": [
    "url_base = f'https://api.census.gov/data/2010/dec/sf1?get=\\\n",
    "GEO_ID,P001001,P002005,P003002,P003003,P003004,\\\n",
    "P003005,P003006,P003007,P003008,P004003,\\\n",
    "P016003,P037001&key={key}&for=tract:*&in=state:'\n",
    "url = url_base + '01'\n",
    "JSONContent = requests.get(url).json()\n",
    "temp = pd.DataFrame(JSONContent)\n",
    "columns = temp.iloc[0,:-3]\n",
    "dec_demos = pd.DataFrame(columns = columns)\n",
    "\n",
    "for i in states:\n",
    "    if i<10:\n",
    "        url = url_base + '0' + str(i)\n",
    "    else:\n",
    "        url = url_base + str(i)\n",
    "\n",
    "    JSONContent = requests.get(url).json()\n",
    "    temp = pd.DataFrame(JSONContent)\n",
    "    temp = temp.iloc[1:,:-3]\n",
    "    temp.columns=columns\n",
    "    dec_demos = pd.concat([dec_demos,temp])"
   ]
  },
  {
   "cell_type": "code",
   "execution_count": 79,
   "metadata": {},
   "outputs": [],
   "source": [
    "url_base = f'https://api.census.gov/data/2010/acs/acs5?get=GEO_ID,\\\n",
    "B05001_006E,B06007_033E,B06007_005E,B06007_008E,\\\n",
    "B06009_002E,B17010_002E,B06010_011E&key={key}&for=tract:*&in=state:'\n",
    "url = url_base + '01'\n",
    "JSONContent = requests.get(url).json()\n",
    "temp = pd.DataFrame(JSONContent)\n",
    "columns = temp.iloc[0,:-3]\n",
    "acs_demos = pd.DataFrame(columns = columns)\n",
    "\n",
    "for i in states:\n",
    "    if i<10:\n",
    "        url = url_base + '0' + str(i)\n",
    "    else:\n",
    "        url = url_base + str(i)\n",
    "    \n",
    "    JSONContent = requests.get(url).json()   \n",
    "    temp = pd.DataFrame(JSONContent)\n",
    "    temp = temp.iloc[1:,:-3]\n",
    "    temp.columns=columns\n",
    "    acs_demos = pd.concat([acs_demos,temp])"
   ]
  },
  {
   "cell_type": "code",
   "execution_count": 80,
   "metadata": {},
   "outputs": [],
   "source": [
    "dec_demos.index = dec_demos.GEO_ID\n",
    "dec_demos = dec_demos.drop(columns='GEO_ID')\n",
    "acs_demos.index = acs_demos.GEO_ID\n",
    "acs_demos = acs_demos.drop(columns='GEO_ID')\n",
    "responses.index = responses.GEO_ID\n",
    "responses = responses.drop(columns='GEO_ID')\n",
    "\n",
    "data = responses.merge(dec_demos,how='inner',left_index=True,right_index=True)\n",
    "data = data.merge(acs_demos,how='inner',left_index=True,right_index=True)\n",
    "data = data[data.FSRR2010.notna()]\n",
    "\n",
    "data.columns = ['response','pop','rural','white',\\\n",
    "                'black','AIAN','asian','pacific_islander',\\\n",
    "                'other_race','multiracial','hispanic',\\\n",
    "               'under18','avgfamsize','noncitizen',\\\n",
    "               'foreign_born','spanish_poor_english','other_lang_poor_english',\\\n",
    "               'no_high_school','below_poverty_level','make_over_75k']\n",
    "\n",
    "data = data.replace('None','0')\n",
    "\n",
    "data = data.astype('float32')\n",
    "\n",
    "for column in data.columns:\n",
    "    if column not in ['pop','response','avgfamsize']:\n",
    "        data[column] = data[column]/data['pop']\n",
    "\n",
    "        \n",
    "data = data.fillna(value='0')\n",
    "data = data.replace(m.inf,0)\n",
    "\n",
    "data.to_csv('2010responsesdataset.csv')"
   ]
  },
  {
   "cell_type": "code",
   "execution_count": 81,
   "metadata": {},
   "outputs": [],
   "source": [
    "#search function for finding ACS variables\n",
    "\n",
    "myfile = json.load(open('acs_variables.json'))\n",
    "\n",
    "def search_dict(string):\n",
    "    for dict in myfile['variables']:\n",
    "        if string in str(myfile['variables'][dict]):\n",
    "            print(dict,'\\n',myfile['variables'][dict]['label'],'\\n\\n\\n')\n",
    "            \n",
    "# example call to search: search_dict('poverty')\n",
    "\n",
    "# example call to check data: myfile['variables']['B06010_011E']"
   ]
  },
  {
   "cell_type": "code",
   "execution_count": 2,
   "metadata": {},
   "outputs": [],
   "source": [
    "import pandas as pd\n",
    "data = pd.DataFrame([[1,2,3],[4,5,6]])"
   ]
  },
  {
   "cell_type": "code",
   "execution_count": 7,
   "metadata": {},
   "outputs": [
    {
     "data": {
      "text/html": [
       "<div>\n",
       "<style scoped>\n",
       "    .dataframe tbody tr th:only-of-type {\n",
       "        vertical-align: middle;\n",
       "    }\n",
       "\n",
       "    .dataframe tbody tr th {\n",
       "        vertical-align: top;\n",
       "    }\n",
       "\n",
       "    .dataframe thead th {\n",
       "        text-align: right;\n",
       "    }\n",
       "</style>\n",
       "<table border=\"1\" class=\"dataframe\">\n",
       "  <thead>\n",
       "    <tr style=\"text-align: right;\">\n",
       "      <th></th>\n",
       "      <th>a</th>\n",
       "      <th>b</th>\n",
       "      <th>c</th>\n",
       "    </tr>\n",
       "  </thead>\n",
       "  <tbody>\n",
       "    <tr>\n",
       "      <th>0</th>\n",
       "      <td>1.5</td>\n",
       "      <td>2</td>\n",
       "      <td>3</td>\n",
       "    </tr>\n",
       "    <tr>\n",
       "      <th>1</th>\n",
       "      <td>1.2</td>\n",
       "      <td>5</td>\n",
       "      <td>6</td>\n",
       "    </tr>\n",
       "  </tbody>\n",
       "</table>\n",
       "</div>"
      ],
      "text/plain": [
       "     a  b  c\n",
       "0  1.5  2  3\n",
       "1  1.2  5  6"
      ]
     },
     "execution_count": 7,
     "metadata": {},
     "output_type": "execute_result"
    }
   ],
   "source": [
    "data.columns = ['a','b','c']\n",
    "data\n",
    "data['a'] = data['c'] / data['b']\n",
    "data"
   ]
  }
 ],
 "metadata": {
  "kernelspec": {
   "display_name": "Python 3",
   "language": "python",
   "name": "python3"
  },
  "language_info": {
   "codemirror_mode": {
    "name": "ipython",
    "version": 3
   },
   "file_extension": ".py",
   "mimetype": "text/x-python",
   "name": "python",
   "nbconvert_exporter": "python",
   "pygments_lexer": "ipython3",
   "version": "3.7.3"
  }
 },
 "nbformat": 4,
 "nbformat_minor": 2
}
