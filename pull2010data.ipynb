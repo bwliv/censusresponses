{
 "cells": [
  {
   "cell_type": "code",
   "execution_count": 266,
   "metadata": {},
   "outputs": [],
   "source": [
    "import pandas as pd\n",
    "import requests\n",
    "import json\n",
    "\n",
    "columns=['GEO_ID','FSRR2010']\n",
    "\n",
    "responses = pd.DataFrame(columns=columns)\n",
    "\n",
    "for i in range(1,57):\n",
    "    if i not in [3,7,14,43,52]:\n",
    "        if i < 10:\n",
    "            url = \"https://api.census.gov/data/2010/dec/responserate?get=GEO_ID,FSRR2010&for=tract:*&in=state:0\" + str(i)\n",
    "        else:\n",
    "            url = \"https://api.census.gov/data/2010/dec/responserate?get=GEO_ID,FSRR2010&for=tract:*&in=state:\" + str(i)\n",
    "        JSONContent = requests.get(url).json()\n",
    "        temp = pd.DataFrame(JSONContent)\n",
    "        temp = temp.iloc[1:,[0,1]]\n",
    "        temp.columns = columns\n",
    "        responses = pd.concat([responses,temp])"
   ]
  },
  {
   "cell_type": "code",
   "execution_count": 267,
   "metadata": {},
   "outputs": [],
   "source": [
    "url_base = 'https://api.census.gov/data/2010/dec/sf1?get=\\\n",
    "GEO_ID,P001001,P002002,P002005,P003002,P003003,P003004,\\\n",
    "P003005,P003006,P003007,P003008,P004002,P004003,\\\n",
    "P016002,P016003,P037001&for=tract:*&in=state:'\n",
    "url = url_base + '01'\n",
    "JSONContent = requests.get(url).json()\n",
    "temp = pd.DataFrame(JSONContent)\n",
    "columns = temp.iloc[0,:-3]\n",
    "demos = pd.DataFrame(columns = columns)\n",
    "\n",
    "for i in range(1,57):\n",
    "    if i not in [3,7,14,43,52]:\n",
    "        if i<10:\n",
    "            url = url_base + '0' + str(i)\n",
    "        else:\n",
    "            url = url_base + str(i)\n",
    "        JSONContent = requests.get(url).json()\n",
    "        temp = pd.DataFrame(JSONContent)\n",
    "        temp = temp.iloc[1:,:-3]\n",
    "        temp.columns=columns\n",
    "        demos = pd.concat([demos,temp])"
   ]
  },
  {
   "cell_type": "code",
   "execution_count": 268,
   "metadata": {},
   "outputs": [],
   "source": [
    "demos.index = demos.GEO_ID\n",
    "demos = demos.drop(columns='GEO_ID')\n",
    "responses.index = responses.GEO_ID\n",
    "responses = responses.drop(columns='GEO_ID')\n",
    "\n",
    "data = responses.merge(demos,how='inner',left_index=True,right_index=True)\n",
    "data = data[data.FSRR2010.notna()]\n",
    "\n",
    "data.columns = ['response','pop','urban','rural','white',\\\n",
    "                'black','AIAN','asian','pacific_islander',\\\n",
    "                'other_race','multiracial','non-hispanic','hispanic',\\\n",
    "               'under18','18orolder','avgfamsize']\n",
    "\n",
    "data = data.astype('float32')\n",
    "\n",
    "for column in data.columns:\n",
    "    if column not in ['pop','response','avgfamsize']:\n",
    "        data[column] = data[column]/data['pop']\n",
    "\n",
    "        \n",
    "data = data.fillna(value='0')\n",
    "\n",
    "data.to_csv('responses.csv')"
   ]
  }
 ],
 "metadata": {
  "kernelspec": {
   "display_name": "Python 3",
   "language": "python",
   "name": "python3"
  },
  "language_info": {
   "codemirror_mode": {
    "name": "ipython",
    "version": 3
   },
   "file_extension": ".py",
   "mimetype": "text/x-python",
   "name": "python",
   "nbconvert_exporter": "python",
   "pygments_lexer": "ipython3",
   "version": "3.7.3"
  }
 },
 "nbformat": 4,
 "nbformat_minor": 2
}
