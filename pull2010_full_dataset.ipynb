{
 "cells": [
  {
   "cell_type": "code",
   "execution_count": 1,
   "metadata": {},
   "outputs": [],
   "source": [
    "import pandas as pd\n",
    "import requests\n",
    "import json\n",
    "\n",
    "key = '2988f01f5e86175bda8beae2b5035e1ccef2d052'\n",
    "\n",
    "url = f\"https://api.census.gov/data/2010/dec/responserate?get=GEO_ID,FSRR2010&key={key}&for=state:*\"\n",
    "JSONContent = requests.get(url).json()\n",
    "states = pd.DataFrame(JSONContent)\n",
    "states.columns = states.iloc[0]\n",
    "states = states.iloc[1:,2]\n",
    "states = [int(i) for i in states]"
   ]
  },
  {
   "cell_type": "code",
   "execution_count": 2,
   "metadata": {},
   "outputs": [],
   "source": [
    "columns=['GEO_ID','FSRR2010']\n",
    "\n",
    "tract_responses = pd.DataFrame(columns=columns)\n",
    "\n",
    "for i in states:\n",
    "    if i < 10:\n",
    "        url = f\"https://api.census.gov/data/2010/dec/responserate?get=GEO_ID,FSRR2010&key={key}&for=tract:*&in=state:0\"\\\n",
    "        + str(i)\n",
    "    else:\n",
    "        url = f\"https://api.census.gov/data/2010/dec/responserate?get=GEO_ID,FSRR2010&key={key}&for=tract:*&in=state:\"\\\n",
    "        + str(i)\n",
    "    JSONContent = requests.get(url).json()\n",
    "    temp = pd.DataFrame(JSONContent)\n",
    "    temp = temp.iloc[1:,[0,1]]\n",
    "    temp.columns = columns\n",
    "    tract_responses = pd.concat([tract_responses,temp])"
   ]
  },
  {
   "cell_type": "code",
   "execution_count": 3,
   "metadata": {},
   "outputs": [],
   "source": [
    "county_responses = pd.DataFrame(columns=columns)\n",
    "\n",
    "for i in states:\n",
    "    if i < 10:\n",
    "        url = f\"https://api.census.gov/data/2010/dec/responserate?get=GEO_ID,FSRR2010&key={key}&key={key}&for=county:*&in=state:0\"\\\n",
    "        + str(i)\n",
    "    else:\n",
    "        url = f\"https://api.census.gov/data/2010/dec/responserate?get=GEO_ID,FSRR2010&key={key}&for=county:*&in=state:\"\\\n",
    "        + str(i)\n",
    "    JSONContent = requests.get(url).json()\n",
    "    temp = pd.DataFrame(JSONContent)\n",
    "    temp = temp.iloc[1:,[0,1]]\n",
    "    temp.columns = columns\n",
    "    county_responses = pd.concat([county_responses,temp])"
   ]
  },
  {
   "cell_type": "code",
   "execution_count": 4,
   "metadata": {},
   "outputs": [],
   "source": [
    "url = f\"https://api.census.gov/data/2010/dec/responserate?get=GEO_ID,FSRR2010&key={key}&for=state:*\"\n",
    "JSONContent = requests.get(url).json()\n",
    "state_responses = pd.DataFrame(JSONContent)\n",
    "state_responses.columns = state_responses.iloc[0]\n",
    "state_responses = state_responses.iloc[1:,0:2]"
   ]
  },
  {
   "cell_type": "code",
   "execution_count": 5,
   "metadata": {},
   "outputs": [],
   "source": [
    "tract_responses.to_csv('tract_responses_2010.csv')\n",
    "state_responses.to_csv('state_responses_2010.csv')\n",
    "county_responses.to_csv('county_responses_2010.csv')"
   ]
  }
 ],
 "metadata": {
  "kernelspec": {
   "display_name": "Python 3",
   "language": "python",
   "name": "python3"
  },
  "language_info": {
   "codemirror_mode": {
    "name": "ipython",
    "version": 3
   },
   "file_extension": ".py",
   "mimetype": "text/x-python",
   "name": "python",
   "nbconvert_exporter": "python",
   "pygments_lexer": "ipython3",
   "version": "3.7.3"
  }
 },
 "nbformat": 4,
 "nbformat_minor": 2
}
